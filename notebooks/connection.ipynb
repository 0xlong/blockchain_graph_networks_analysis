{
 "cells": [
  {
   "cell_type": "code",
   "execution_count": 93,
   "metadata": {},
   "outputs": [],
   "source": [
    "import numpy as np\n",
    "import pandas as pd\n",
    "import requests\n",
    "from bs4 import BeautifulSoup\n",
    "import cloudscraper\n",
    "import json\n",
    "import src.data.get_data_from_etherscan\n",
    "from config import CONFIG"
   ]
  },
  {
   "cell_type": "code",
   "execution_count": 92,
   "metadata": {},
   "outputs": [
    {
     "ename": "NameError",
     "evalue": "name 'api_key' is not defined",
     "output_type": "error",
     "traceback": [
      "\u001b[1;31m---------------------------------------------------------------------------\u001b[0m",
      "\u001b[1;31mNameError\u001b[0m                                 Traceback (most recent call last)",
      "Cell \u001b[1;32mIn [92], line 1\u001b[0m\n\u001b[1;32m----> 1\u001b[0m get_data_from_etherscan\u001b[39m.\u001b[39;49mwallet_balance(\u001b[39m'\u001b[39;49m\u001b[39m0xb7dcabe6da1194507522b553950ccb5a8060a439\u001b[39;49m\u001b[39m'\u001b[39;49m)\n",
      "File \u001b[1;32mc:\\Users\\Longin\\Desktop\\Projects\\blockchain_graph_networks_analysis\\src\\data\\get_data_from_etherscan.py:12\u001b[0m, in \u001b[0;36mwallet_balance\u001b[1;34m(address)\u001b[0m\n\u001b[0;32m      8\u001b[0m \u001b[39mdef\u001b[39;00m \u001b[39mwallet_balance\u001b[39m(address):\n\u001b[0;32m     10\u001b[0m     scraper \u001b[39m=\u001b[39m cloudscraper\u001b[39m.\u001b[39mcreate_scraper()\n\u001b[1;32m---> 12\u001b[0m     response \u001b[39m=\u001b[39m scraper\u001b[39m.\u001b[39mget(\u001b[39m\"\u001b[39m\u001b[39mhttp://api.etherscan.io/api?module=account&action=txlist&address=\u001b[39m\u001b[39m\"\u001b[39m\u001b[39m+\u001b[39maddress\u001b[39m+\u001b[39m\u001b[39m\"\u001b[39m\u001b[39m&startblock=0&endblock=99999999&sort=asc&apikey=\u001b[39m\u001b[39m\"\u001b[39m\u001b[39m+\u001b[39mapi_key)\n\u001b[0;32m     13\u001b[0m     normal_txn \u001b[39m=\u001b[39m json\u001b[39m.\u001b[39mloads(BeautifulSoup(response\u001b[39m.\u001b[39mtext, \u001b[39m'\u001b[39m\u001b[39mhtml.parser\u001b[39m\u001b[39m'\u001b[39m)\u001b[39m.\u001b[39mtext)[\u001b[39m'\u001b[39m\u001b[39mresult\u001b[39m\u001b[39m'\u001b[39m]\n\u001b[0;32m     15\u001b[0m     \u001b[39mreturn\u001b[39;00m normal_txn\n",
      "\u001b[1;31mNameError\u001b[0m: name 'api_key' is not defined"
     ]
    }
   ],
   "source": [
    "get_data_from_etherscan.wallet_balance('0xb7dcabe6da1194507522b553950ccb5a8060a439',)"
   ]
  },
  {
   "cell_type": "code",
   "execution_count": 32,
   "metadata": {},
   "outputs": [],
   "source": [
    "import sys\n",
    "sys.path.insert(1, 'c:\\\\Users\\\\Longin\\\\Desktop\\\\Projects\\\\blockchain_graph_networks_analysis\\\\src\\\\data')"
   ]
  },
  {
   "cell_type": "code",
   "execution_count": 6,
   "metadata": {},
   "outputs": [],
   "source": [
    "# Global constants\n",
    "scraper = cloudscraper.create_scraper()\n",
    "api_key='VZFU952J88ETDT55FBZF7PYVD84BYEB2A4'\n",
    "api_key='WEMIBUUI1E2BPIHEJ7KMYNBK17XP6HREGN'\n",
    "api_key_ethplorer = 'EK-e1cjP-8U9hySN-JYQwQ'\n",
    "address = '0xb7DcaBe6DA1194507522b553950cCB5A8060A439'"
   ]
  },
  {
   "cell_type": "code",
   "execution_count": 51,
   "metadata": {},
   "outputs": [
    {
     "data": {
      "text/plain": [
       "'VZFU952J88ETDT55FBZF7PYVD84BYEB2A4'"
      ]
     },
     "execution_count": 51,
     "metadata": {},
     "output_type": "execute_result"
    }
   ],
   "source": [
    "CONFIG.api_key"
   ]
  },
  {
   "cell_type": "code",
   "execution_count": 81,
   "metadata": {},
   "outputs": [],
   "source": [
    "response = scraper.get(\"http://api.etherscan.io/api?module=account&action=txlist&address=\"+address+\"&startblock=0&endblock=99999999&sort=asc&apikey=\"+api_key)\n",
    "normal_txn = json.loads(BeautifulSoup(response.text, 'html.parser').text)['result']"
   ]
  },
  {
   "cell_type": "code",
   "execution_count": 86,
   "metadata": {},
   "outputs": [
    {
     "ename": "NameError",
     "evalue": "name 'api_key' is not defined",
     "output_type": "error",
     "traceback": [
      "\u001b[1;31m---------------------------------------------------------------------------\u001b[0m",
      "\u001b[1;31mNameError\u001b[0m                                 Traceback (most recent call last)",
      "Cell \u001b[1;32mIn [86], line 1\u001b[0m\n\u001b[1;32m----> 1\u001b[0m get_data_from_etherscan\u001b[39m.\u001b[39;49mwallet_balance(\u001b[39m'\u001b[39;49m\u001b[39m0xb7dcabe6da1194507522b553950ccb5a8060a439\u001b[39;49m\u001b[39m'\u001b[39;49m)\n",
      "File \u001b[1;32mc:\\Users\\Longin\\Desktop\\Projects\\blockchain_graph_networks_analysis\\src\\data\\get_data_from_etherscan.py:12\u001b[0m, in \u001b[0;36mwallet_balance\u001b[1;34m(address)\u001b[0m\n\u001b[0;32m      8\u001b[0m \u001b[39mdef\u001b[39;00m \u001b[39mwallet_balance\u001b[39m(address):\n\u001b[0;32m     10\u001b[0m     scraper \u001b[39m=\u001b[39m cloudscraper\u001b[39m.\u001b[39mcreate_scraper()\n\u001b[1;32m---> 12\u001b[0m     response \u001b[39m=\u001b[39m scraper\u001b[39m.\u001b[39mget(\u001b[39m\"\u001b[39m\u001b[39mhttp://api.etherscan.io/api?module=account&action=txlist&address=\u001b[39m\u001b[39m\"\u001b[39m\u001b[39m+\u001b[39maddress\u001b[39m+\u001b[39m\u001b[39m\"\u001b[39m\u001b[39m&startblock=0&endblock=99999999&sort=asc&apikey=\u001b[39m\u001b[39m\"\u001b[39m\u001b[39m+\u001b[39mapi_key)\n\u001b[0;32m     13\u001b[0m     normal_txn \u001b[39m=\u001b[39m json\u001b[39m.\u001b[39mloads(BeautifulSoup(response\u001b[39m.\u001b[39mtext, \u001b[39m'\u001b[39m\u001b[39mhtml.parser\u001b[39m\u001b[39m'\u001b[39m)\u001b[39m.\u001b[39mtext)[\u001b[39m'\u001b[39m\u001b[39mresult\u001b[39m\u001b[39m'\u001b[39m]\n\u001b[0;32m     15\u001b[0m     \u001b[39mreturn\u001b[39;00m normal_txn\n",
      "\u001b[1;31mNameError\u001b[0m: name 'api_key' is not defined"
     ]
    }
   ],
   "source": []
  }
 ],
 "metadata": {
  "kernelspec": {
   "display_name": "Python 3.9.12 ('blockchain_graph_networks_analysis_env')",
   "language": "python",
   "name": "python3"
  },
  "language_info": {
   "codemirror_mode": {
    "name": "ipython",
    "version": 3
   },
   "file_extension": ".py",
   "mimetype": "text/x-python",
   "name": "python",
   "nbconvert_exporter": "python",
   "pygments_lexer": "ipython3",
   "version": "3.9.12"
  },
  "orig_nbformat": 4,
  "vscode": {
   "interpreter": {
    "hash": "56a5557817779060c32b0f83b37273b0d0a62482e512921e9bfd986c4e9b175a"
   }
  }
 },
 "nbformat": 4,
 "nbformat_minor": 2
}
