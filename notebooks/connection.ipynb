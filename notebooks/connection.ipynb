{
 "cells": [
  {
   "cell_type": "code",
   "execution_count": 1,
   "metadata": {},
   "outputs": [],
   "source": [
    "#adding blockchain_graph_networks_analysis path to sys.path's so Python interpreter could look for my libraries knowing this path\n",
    "sys.path.insert(1, 'c:\\\\Users\\\\Longin\\\\Desktop\\\\Projects\\\\blockchain_graph_networks_analysis')\n",
    "\n",
    "#check if path was added\n",
    "#sys.path"
   ]
  },
  {
   "cell_type": "code",
   "execution_count": 3,
   "metadata": {},
   "outputs": [],
   "source": [
    "#external packages\n",
    "import numpy as np\n",
    "import pandas as pd\n",
    "import requests\n",
    "from bs4 import BeautifulSoup\n",
    "import cloudscraper\n",
    "import json\n",
    "#import networkx as nx\n",
    "#from pyvis.network import Network\n",
    "\n",
    "# internal packages\n",
    "from src.data import get_data_from_external\n",
    "from src.features import create_unique_ads_list\n",
    "from config import CONFIG"
   ]
  },
  {
   "cell_type": "code",
   "execution_count": 4,
   "metadata": {},
   "outputs": [],
   "source": [
    "scraper = cloudscraper.create_scraper()\n",
    "address = '0xb7dcabe6da1194507522b553950ccb5a8060a439'\n",
    "response = scraper.get(\"https://api.etherscan.io/api?module=account&action=tokentx&address=\"+address+\"&startblock=0&endblock=999999999&sort=desc&apikey=\"+CONFIG.etherscan_api_key)"
   ]
  },
  {
   "cell_type": "code",
   "execution_count": 7,
   "metadata": {},
   "outputs": [
    {
     "data": {
      "text/plain": [
       "['0x564286362092d8e7936f0549571a803b203aaced',\n",
       " '0x41d5d79431a913c4ae7d69a668ecdfe5ff9dfb68',\n",
       " '0x6a2e6510b2bbf8c9ad7bc817d0dc711711e8d747',\n",
       " '0xdac17f958d2ee523a2206206994597c13d831ec7',\n",
       " '0x55b0c2eee5d48af6d2a65507319d20453e9f97b6',\n",
       " '0x3f5ce5fbfe3e9af3971dd833d26ba9b5c936f0be',\n",
       " '0x4b4d2e899658fb59b1d518b68fe836b100ee8958',\n",
       " '0xdbddf072d7aae7b9288e31a4eebe6c54e3a143b1',\n",
       " '0x090d4613473dee047c3f2706764f49e0821d256e',\n",
       " '0x7b0c06043468469967dba22d1af33d77d44056c8',\n",
       " '0xa1d6df714f91debf4e0802a542e13067f31b8262',\n",
       " '0xbd17b1ce622d73bd438b9e658aca5996dc394b0d',\n",
       " '0x767fe9edc9e0df98e07454847909b5e959d7ca0e',\n",
       " '0xd2dda223b2617cb616c1580db421e4cfae6a8a85',\n",
       " '0xdbfd99b312b1728dafb96b5e8f1a93fec43ea6e3',\n",
       " '0x6a58eb0d64974e7e76e8f1080e53db86e348bceb',\n",
       " '0x8400d94a5cb0fa0d041a3788e395285d61c9ee5e',\n",
       " '0x7a250d5630b4cf539739df2c5dacb4c659f2488d',\n",
       " '0xcae72a7a0fd9046cf6b165ca54c9e3a3872109e0',\n",
       " '0xf1f3ca6268f330fda08418db12171c3173ee39c9',\n",
       " '0xc944e90c64b2c07662a292be6244bdf05cda44a7',\n",
       " '0xab2f48bc723fe0055f154e0390375324e33ed424',\n",
       " '0xe18b0365d5d09f394f84ee56ed29dd2d8d6fba5f',\n",
       " '0x602d44d18faf357eb2137ab392f1786bb460fd0f',\n",
       " '0xad5f6cdda157694439ef9f6dd409424321c74628',\n",
       " '0x75e89d5979e4f6fba9f97c104c2f0afb3f1dcb88',\n",
       " '0x6bf977ed1a09214e6209f4ea5f525261f1a2690a',\n",
       " '0x967da4048cd07ab37855c090aaf366e4ce1b9f48',\n",
       " '0x4ee7c0f5480eb1edd8902a5e8b991ed52992d5f5',\n",
       " '0xef0ed92739d1f7aeef8fe475410cce976dd5f35a',\n",
       " '0x111111111117dc0aa78b770fa6a738034120c302',\n",
       " '0x3e4a3a4796d16c0cd582c382691998f7c06420b6',\n",
       " '0x21bfbda47a0b4b5b1248c767ee49f7caa9b23697',\n",
       " '0x43dfc4159d86f3a37a5a4b3d4580b888ad7d4ddd',\n",
       " '0x3b484b82567a09e2588a13d54d032153f0c0aee0',\n",
       " '0x323e054a6dd8762011d60993f51e23e2096b221f',\n",
       " '0x09a3ecafa817268f77be1283176b946c4ff2e608',\n",
       " '0x8c8687fc965593dfb2f0b4eaefd55e9d8df348df',\n",
       " '0x87edffde3e14c7a66c9b9724747a1c5696b742e6',\n",
       " '0x88acdd2a6425c3faae4bc9650fd7e27e0bebb7ab',\n",
       " '0x6b175474e89094c44da98b954eedeac495271d0f',\n",
       " '0xdd1ad9a21ce722c151a836373babe42c868ce9a4',\n",
       " '0x9f9c8ec3534c3ce16f928381372bfbfbfb9f4d24',\n",
       " '0xa0b86991c6218b36c1d19d4a2e9eb0ce3606eb48',\n",
       " '0xe592427a0aece92de3edee1f18e0157c05861564',\n",
       " '0x4846239fdf4d4c1aeb26729fa064b0205aca90e1',\n",
       " '0xa47c8bf37f92abed4a126bda807a7b7498661acd',\n",
       " '0xe5caef4af8780e59df925470b050fb23c43ca68c',\n",
       " '0xaed7384f03844af886b830862ff0a7afce0a632c',\n",
       " '0xfb64597dda1345317a4f4f5dba2425384bc5fa7b',\n",
       " '0x75c23271661d9d143dcb617222bc4bec783eff34',\n",
       " '0x6a5eb3555cbbd29016ba6f6ffbccee28d57b2932',\n",
       " '0x4c19596f5aaff459fa38b0f7ed92f11ae6543784',\n",
       " '0x295b42684f90c77da7ea46336001010f2791ec8c',\n",
       " '0x4dbd4fc535ac27206064b68ffcf827b0a60bab3f',\n",
       " '0x0ae055097c6d159879521c384f1d2123d1f195e6',\n",
       " '0xb8901acb165ed027e32754e0ffe830802919727f',\n",
       " '0xbd2f0cd039e0bfcf88901c98c0bfac5ab27566e3',\n",
       " '0x584bc13c7d411c00c01a62e8019472de68768430',\n",
       " '0x3f382dbd960e3a9bbceae22651e88158d2791550',\n",
       " '0xf65b5c5104c4fafd4b709d9d60a185eae063276c',\n",
       " '0x3e66b66fd1d0b02fda6c811da9e0547970db2f21',\n",
       " '0xdd467a6c8ae2b39825a452e06b4fa82f73d4253d',\n",
       " '0x85b931a32a0725be14285b66f1a22178c672d69b',\n",
       " '0xd551234ae421e3bcba99a0da6d736074f22192ff',\n",
       " '0xd9e1ce17f2641f24ae83637ab66a2cca9c378b9f',\n",
       " '0x14e33e1d6cc4d83d7476492c0a52b3d4f869d892',\n",
       " '0x4da08a1bff50be96bded5c7019227164b49c2bfc',\n",
       " '0x1f9840a85d5af5bf1d1762f925bdaddc4201f984',\n",
       " '0x3d6f0dea3ac3c607b3998e6ce14b6350721752d9',\n",
       " '0xbbc2ae13b23d715c30720f079fcd9b4a74093505',\n",
       " '0x066f3a3b7c8fa077c71b9184d862ed0a4d5cf3e0',\n",
       " '0x8c412a045dd7546f7f44fec5fcaf1f38ca10e66b',\n",
       " '0xc719d010b63e5bbf2c0551872cd5316ed26acd83',\n",
       " '0xdc98556ce24f007a5ef6dc1ce96322d65832a819',\n",
       " '0xc9f93163c99695c6526b799ebca2207fdf7d61ad',\n",
       " '0xe9e7cea3dedca5984780bafc599bd69add087d56',\n",
       " '0x03ab458634910aad20ef5f1c8ee96f1d6ac54919',\n",
       " '0xb7dcabe6da1194507522b553950ccb5a8060a439',\n",
       " '0x9d1233cc46795e94029fda81aaadc1455d510f15',\n",
       " '0x68caad331ba8250aef88228f87846652822ae4b5',\n",
       " '0x2a398bba1236890fb6e9698a698a393bb8ee8674',\n",
       " '0x38e4adb44ef08f22f5b5b76a8f0c2d0dcbe7dca1',\n",
       " '0x51882184b7f9beed6db9c617846140da1d429fd4',\n",
       " '0x7be8076f4ea4a4ad08075c2508e481d6c946d12b',\n",
       " '0x0000000000004946c0e9f43f4dee607b0ef1fa1c',\n",
       " '0x0ace32f6e87ac1457a5385f8eb0208f37263b415',\n",
       " '0x0681d8db095565fe8a346fa0277bffde9c0edbbf',\n",
       " '0x2ba797c234c8fe25847225b11b616bce729b0b53',\n",
       " '0xaffc147d043cfc1fae63d947678670d16afe160c',\n",
       " '0x26607ac599266b21d13c7acf7942c7701a8b699c',\n",
       " '0x4240781a9ebdb2eb14a183466e8820978b7da4e2',\n",
       " '0xf1a6bed23411d709069ddbd55a04700f9493476f',\n",
       " '0x398aea1c9ceb7de800284bb399a15e0efe5a9ec2']"
      ]
     },
     "execution_count": 7,
     "metadata": {},
     "output_type": "execute_result"
    }
   ],
   "source": [
    "x = get_data_from_external.wallet_normal_transactions('0xb7dcabe6da1194507522b553950ccb5a8060a439', CONFIG.etherscan_api_key)\n",
    "create_unique_ads_list.unique_ads_list(x)"
   ]
  }
 ],
 "metadata": {
  "kernelspec": {
   "display_name": "Python 3.9.12 ('blockchain_graph_networks_analysis_env')",
   "language": "python",
   "name": "python3"
  },
  "language_info": {
   "codemirror_mode": {
    "name": "ipython",
    "version": 3
   },
   "file_extension": ".py",
   "mimetype": "text/x-python",
   "name": "python",
   "nbconvert_exporter": "python",
   "pygments_lexer": "ipython3",
   "version": "3.9.12"
  },
  "orig_nbformat": 4,
  "vscode": {
   "interpreter": {
    "hash": "56a5557817779060c32b0f83b37273b0d0a62482e512921e9bfd986c4e9b175a"
   }
  }
 },
 "nbformat": 4,
 "nbformat_minor": 2
}
